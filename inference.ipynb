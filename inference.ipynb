{
 "cells": [
  {
   "cell_type": "markdown",
   "metadata": {},
   "source": [
    "# Required dependencies"
   ]
  },
  {
   "cell_type": "code",
   "execution_count": null,
   "metadata": {},
   "outputs": [],
   "source": [
    "import model\n",
    "from stable_baselines import PPO2\n",
    "\n",
    "import time\n",
    "from utils import make_vec_envs\n",
    "\n",
    "%matplotlib inline\n",
    "import matplotlib.pyplot as plt\n",
    "from IPython import display"
   ]
  },
  {
   "cell_type": "markdown",
   "metadata": {},
   "source": [
    "# Defining the parameters and loading the model and environment"
   ]
  },
  {
   "cell_type": "code",
   "execution_count": null,
   "metadata": {},
   "outputs": [],
   "source": [
    "game = 'zelda'\n",
    "representation = 'turtle'\n",
    "model_path = 'models/{}/{}/model_1.pkl'.format(game, representation)\n",
    "kwargs = {\n",
    "    'change_percentage': 0.4,\n",
    "    'verbose': True\n",
    "}\n",
    "\n",
    "if game == \"binary\":\n",
    "    model.FullyConvPolicy = model.FullyConvPolicyBigMap\n",
    "elif game == \"zelda\":\n",
    "    model.FullyConvPolicy = model.FullyConvPolicyBigMap\n",
    "elif game == \"sokoban\":\n",
    "    model.FullyConvPolicy = model.FullyConvPolicySmallMap\n",
    "\n",
    "agent = PPO2.load(model_path)\n",
    "\n",
    "env_name = '{}-{}-v0'.format(game, representation)\n",
    "if game == \"binary\":\n",
    "    kwargs['cropped_size'] = 28\n",
    "elif game == \"zelda\":\n",
    "    kwargs['cropped_size'] = 22\n",
    "elif game == \"sokoban\":\n",
    "    kwargs['cropped_size'] = 10\n",
    "    \n",
    "env = make_vec_envs(env_name, representation, None, 1, **kwargs)"
   ]
  },
  {
   "cell_type": "markdown",
   "metadata": {},
   "source": [
    "# Run Model"
   ]
  },
  {
   "cell_type": "code",
   "execution_count": null,
   "metadata": {
    "scrolled": true
   },
   "outputs": [],
   "source": [
    "def show_state(env, step=0, changes=0, total_reward=0, name=\"\"):\n",
    "    fig = plt.figure(10)\n",
    "    plt.clf()\n",
    "    plt.title(\"{} | Step: {} Changes: {} Total Reward: {}\".format(name, step, changes, total_reward))\n",
    "    plt.axis('off')\n",
    "    plt.imshow(env.render(mode='rgb_array'))\n",
    "    display.clear_output(wait=True)\n",
    "    display.display(plt.gcf())\n",
    "    \n",
    "def infer(env, agent, **kwargs):\n",
    "    obs = env.reset()\n",
    "    dones = False\n",
    "    total_rewards = 0\n",
    "    while not dones:\n",
    "        action, _ = agent.predict(obs)\n",
    "        obs, rewards, dones, info = env.step(action)\n",
    "        total_rewards += rewards\n",
    "        if dones:\n",
    "            break\n",
    "        show_state(env, info[0]['iterations'], info[0]['changes'], total_rewards)\n",
    "    if kwargs.get('verbose', False):\n",
    "        print(info[0])\n",
    "\n",
    "infer(env, agent, **kwargs)"
   ]
  }
 ],
 "metadata": {
  "anaconda-cloud": {},
  "kernelspec": {
   "display_name": "Python [default]",
   "language": "python",
   "name": "python3"
  },
  "language_info": {
   "codemirror_mode": {
    "name": "ipython",
    "version": 3
   },
   "file_extension": ".py",
   "mimetype": "text/x-python",
   "name": "python",
   "nbconvert_exporter": "python",
   "pygments_lexer": "ipython3",
   "version": "3.6.9"
  }
 },
 "nbformat": 4,
 "nbformat_minor": 2
}
